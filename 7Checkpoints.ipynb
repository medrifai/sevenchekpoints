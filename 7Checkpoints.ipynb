{
 "cells": [
  {
   "cell_type": "code",
   "execution_count": 1,
   "id": "d0803d0d",
   "metadata": {},
   "outputs": [
    {
     "name": "stdout",
     "output_type": "stream",
     "text": [
      "enter your first name : Mohamed\n",
      "enter your last name: RIFAI\n",
      "RIFAI Mohamed\n"
     ]
    }
   ],
   "source": [
    "first_name = input ('enter your first name : ')\n",
    "last_name = input ('enter your last name: ')\n",
    "print ( last_name + ' ' + first_name)"
   ]
  },
  {
   "cell_type": "code",
   "execution_count": 17,
   "id": "f9af2264",
   "metadata": {},
   "outputs": [
    {
     "name": "stdout",
     "output_type": "stream",
     "text": [
      "ecrire un nombre x : 10\n",
      "10 + 1010 + 101010 = 102030\n"
     ]
    }
   ],
   "source": [
    "n = int (input('ecrire un nombre x : '))\n",
    "s=0\n",
    "for i in range (3):\n",
    "    v=str(n)*(i+1)\n",
    "    v=int(v)\n",
    "    s=s+v\n",
    "print(str(n),'+',str(n)*2 , '+',str(n)*3,'=' , s)"
   ]
  },
  {
   "cell_type": "code",
   "execution_count": 20,
   "id": "2baabfc4",
   "metadata": {},
   "outputs": [
    {
     "name": "stdout",
     "output_type": "stream",
     "text": [
      "enter a number : 13\n",
      "this number is odd\n"
     ]
    }
   ],
   "source": [
    "n = int(input('enter a number : '))\n",
    "if n % 2 == 0 :\n",
    "    print('this number is even')\n",
    "else :\n",
    "    print('this number is odd')"
   ]
  },
  {
   "cell_type": "code",
   "execution_count": 22,
   "id": "103e1788",
   "metadata": {},
   "outputs": [
    {
     "name": "stdout",
     "output_type": "stream",
     "text": [
      "2002,2009,2016,2023,2037,2044,2051,2058,2072,2079,2086,2093,2107,2114,2121,2128,2142,2149,2156,2163,2177,2184,2191,2198,2212,2219,2226,2233,2247,2254,2261,2268,2282,2289,2296,2303,2317,2324,2331,2338,2352,2359,2366,2373,2387,2394,2401,2408,2422,2429,2436,2443,2457,2464,2471,2478,2492,2499,2506,2513,2527,2534,2541,2548,2562,2569,2576,2583,2597,2604,2611,2618,2632,2639,2646,2653,2667,2674,2681,2688,2702,2709,2716,2723,2737,2744,2751,2758,2772,2779,2786,2793,2807,2814,2821,2828,2842,2849,2856,2863,2877,2884,2891,2898,2912,2919,2926,2933,2947,2954,2961,2968,2982,2989,2996,3003,3017,3024,3031,3038,3052,3059,3066,3073,3087,3094,3101,3108,3122,3129,3136,3143,3157,3164,3171,3178,3192,3199,"
     ]
    }
   ],
   "source": [
    "for n in range(2000,3201) :\n",
    "    if n % 7 == 0 and n % 5 != 0 :\n",
    "        print (n, end=',')"
   ]
  },
  {
   "cell_type": "code",
   "execution_count": 2,
   "id": "1885dddf",
   "metadata": {},
   "outputs": [
    {
     "name": "stdout",
     "output_type": "stream",
     "text": [
      "enter a number :0\n",
      "0 ! =  1\n"
     ]
    }
   ],
   "source": [
    "n = int(input('enter a number :'))\n",
    "f = 1\n",
    "for i in range(n):\n",
    "    f=f*(i+1)\n",
    "print(n,'! = ',f )\n"
   ]
  },
  {
   "cell_type": "code",
   "execution_count": 5,
   "id": "cbb40a1b",
   "metadata": {},
   "outputs": [
    {
     "name": "stdout",
     "output_type": "stream",
     "text": [
      "enter an str :MOHAMED RIFAI\n",
      "MHMDRFI\n"
     ]
    }
   ],
   "source": [
    "s = input('enter an str :')\n",
    "cv=''\n",
    "for i in range(0,len(s),2):\n",
    "    cv=cv+s[i]\n",
    "print(cv)\n",
    "    \n"
   ]
  },
  {
   "cell_type": "code",
   "execution_count": 7,
   "id": "a6bcf37e",
   "metadata": {},
   "outputs": [
    {
     "name": "stdout",
     "output_type": "stream",
     "text": [
      "enter a price : 199\n",
      "discounted price =  179.1\n"
     ]
    }
   ],
   "source": [
    "price = int(input('enter a price : '))\n",
    "if price >= 500 :\n",
    "    discount = 50\n",
    "elif price >= 200 :\n",
    "    discount = 30\n",
    "else :\n",
    "    discount = 10 \n",
    "print('discounted price = ', price*(100-discount)/100 )"
   ]
  },
  {
   "cell_type": "code",
   "execution_count": null,
   "id": "c1b655ee",
   "metadata": {},
   "outputs": [],
   "source": []
  },
  {
   "cell_type": "code",
   "execution_count": null,
   "id": "06c8c5ad",
   "metadata": {},
   "outputs": [],
   "source": []
  }
 ],
 "metadata": {
  "kernelspec": {
   "display_name": "Python 3 (ipykernel)",
   "language": "python",
   "name": "python3"
  },
  "language_info": {
   "codemirror_mode": {
    "name": "ipython",
    "version": 3
   },
   "file_extension": ".py",
   "mimetype": "text/x-python",
   "name": "python",
   "nbconvert_exporter": "python",
   "pygments_lexer": "ipython3",
   "version": "3.9.7"
  }
 },
 "nbformat": 4,
 "nbformat_minor": 5
}
